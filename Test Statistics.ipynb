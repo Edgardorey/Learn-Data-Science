{
 "cells": [
  {
   "cell_type": "markdown",
   "metadata": {},
   "source": [
    "# Test Statistics"
   ]
  },
  {
   "cell_type": "code",
   "execution_count": 1,
   "metadata": {},
   "outputs": [],
   "source": [
    "import numpy as np\n",
    "import matplotlib.pyplot as plt\n",
    "import seaborn as sns"
   ]
  },
  {
   "cell_type": "markdown",
   "metadata": {},
   "source": [
    "## T Statistic"
   ]
  },
  {
   "cell_type": "markdown",
   "metadata": {},
   "source": [
    "A marketing manager wants to determine if there is a significant difference in the effectiveness of two different advertising campaigns in terms of customer engagement. The manager selects a **random sample of 20 customers** who were exposed to each campaign and measures their average time spent on the company's website. The **sample mean time** spent for **Campaign A is 25 minutes with a standard deviation of 5 minutes**, and for **Campaign B, it is 30 minutes with a standard deviation of 6 minutes**.\n",
    "\n",
    "Is there **sufficient evidence** to conclude that the **average time spent on the website differs between the two advertising campaigns**?"
   ]
  },
  {
   "cell_type": "code",
   "execution_count": 2,
   "metadata": {},
   "outputs": [],
   "source": [
    "from scipy import stats\n",
    "from scipy.stats import ttest_ind\n",
    "from scipy.stats import t"
   ]
  },
  {
   "cell_type": "code",
   "execution_count": 3,
   "metadata": {},
   "outputs": [],
   "source": [
    "mean_A = 25\n",
    "std_dev_A = 5\n",
    "n_A = 20\n",
    "\n",
    "mean_B = 30\n",
    "std_dev_B = 6\n",
    "n_B = 20\n",
    "\n",
    "x = np.linspace(-5, 5, 1000)\n",
    "\n",
    "df = n_A + n_B - 2"
   ]
  },
  {
   "cell_type": "code",
   "execution_count": 4,
   "metadata": {},
   "outputs": [
    {
     "name": "stdout",
     "output_type": "stream",
     "text": [
      "t-statistic: -2.862991671569341\n",
      "p-value: 0.006793241953421031\n",
      "Reject the null hypothesis\n"
     ]
    }
   ],
   "source": [
    "t_statistic, p_value = stats.ttest_ind_from_stats(mean_A, std_dev_A, n_A, mean_B, std_dev_B, n_B)\n",
    "\n",
    "print(\"t-statistic:\", t_statistic)\n",
    "print(\"p-value:\", p_value)\n",
    "\n",
    "alpha = 0.05\n",
    "if p_value < alpha:\n",
    "    print(\"Reject the null hypothesis\")\n",
    "else:\n",
    "    print(\"Fail to reject the null hypothesis\")"
   ]
  },
  {
   "cell_type": "markdown",
   "metadata": {},
   "source": [
    "## Z-Test"
   ]
  },
  {
   "cell_type": "markdown",
   "metadata": {},
   "source": [
    "A company is testing a new advertising strategy to determine if it increases website traffic. They randomly select two groups of users: Group A, who are exposed to the new advertising strategy, and Group B, who are not exposed and serve as the control group. The company wants to know if there is a significant difference in the average number of website visits between the two groups.<br>\n",
    "Group A (exposed): Average website visits = 120, Standard deviation = 15, Sample size = 50<br>\n",
    "Group B (control): Average website visits = 110, Standard deviation = 20, Sample size = 50"
   ]
  },
  {
   "cell_type": "code",
   "execution_count": 5,
   "metadata": {},
   "outputs": [],
   "source": [
    "mean_A = 120\n",
    "std_dev_A = 15\n",
    "sample_size_A = 50\n",
    "\n",
    "mean_B = 110\n",
    "std_dev_B = 20\n",
    "sample_size_B = 50"
   ]
  },
  {
   "cell_type": "code",
   "execution_count": 6,
   "metadata": {},
   "outputs": [
    {
     "name": "stdout",
     "output_type": "stream",
     "text": [
      "Reject the null hypothesis. There is a significant difference in website visits between the two groups.\n"
     ]
    }
   ],
   "source": [
    "standard_error_diff = np.sqrt((std_dev_A**2 / sample_size_A) + (std_dev_B**2 / sample_size_B))\n",
    "\n",
    "Z_score = (mean_A - mean_B) / standard_error_diff\n",
    "\n",
    "alpha = 0.05\n",
    "\n",
    "\n",
    "critical_Z = stats.norm.ppf(1 - alpha / 2)\n",
    "\n",
    "if abs(Z_score) > critical_Z:\n",
    "    print(\"Reject the null hypothesis. There is a significant difference in website visits between the two groups.\")\n",
    "else:\n",
    "    print(\"Fail to reject the null hypothesis. There is no significant difference in website visits between the two groups.\")"
   ]
  },
  {
   "cell_type": "markdown",
   "metadata": {},
   "source": [
    "## F-Test"
   ]
  },
  {
   "cell_type": "markdown",
   "metadata": {},
   "source": [
    "An analyst is comparing the performance of two different investment portfolios over the past year. The analyst wants to determine if there is a **significant difference** in the **annual returns between the two portfolios**. The \n",
    "annual returns for Portfolio A and Portfolio B are provided below:\n",
    "\n",
    "| Portfolio | Returns                      |\n",
    "|:-----------|:------------------------------|\n",
    "| A         | 10%, 8%, 12%, 9%, 11%        |\n",
    "| B         | 9%, 11%, 10%, 9%, 12%, 10%   |\n",
    "\n",
    "Calculate the **F-statistic** to test if there is a significant difference in the annual returns between Portfolio A and Portfolio B.\n",
    "\n",
    "Determine if there is a significant difference based on the **F-statistic and a significance level of 0.05**."
   ]
  },
  {
   "cell_type": "code",
   "execution_count": 7,
   "metadata": {},
   "outputs": [],
   "source": [
    "from scipy.stats import f_oneway\n",
    "from scipy.stats import f"
   ]
  },
  {
   "cell_type": "code",
   "execution_count": 8,
   "metadata": {},
   "outputs": [],
   "source": [
    "returns_a = [10, 8, 12, 9, 11]\n",
    "returns_b = [9, 11, 10, 9, 12, 10]\n",
    "\n",
    "x = np.linspace(0.01, 10, 1000)\n",
    "\n",
    "dfn = len(returns_a) - 1\n",
    "dfd = len(returns_b) - 1"
   ]
  },
  {
   "cell_type": "code",
   "execution_count": 9,
   "metadata": {},
   "outputs": [
    {
     "name": "stdout",
     "output_type": "stream",
     "text": [
      "F-statistic: 0.0405040504050405\n",
      "p-value: 0.8449732660946977\n",
      "There is no significant difference in the annual returns between Portfolio A and Portfolio B.\n"
     ]
    }
   ],
   "source": [
    "f_statistic, p_value = f_oneway(returns_a, returns_b)\n",
    "\n",
    "print(\"F-statistic:\", f_statistic)\n",
    "print(\"p-value:\", p_value)\n",
    "\n",
    "alpha = 0.05\n",
    "if p_value < alpha:\n",
    "    print(\"There is a significant difference in the annual returns between Portfolio A and Portfolio B.\")\n",
    "else:\n",
    "    print(\"There is no significant difference in the annual returns between Portfolio A and Portfolio B.\")"
   ]
  },
  {
   "cell_type": "markdown",
   "metadata": {},
   "source": [
    "## Chi-Squre Test"
   ]
  },
  {
   "cell_type": "markdown",
   "metadata": {},
   "source": [
    "A market researcher wants to determine if there is a **significant relationship between** the **age group** of customers and their preferred **mode of shopping** (online or in-store). The researcher collects data from a **sample of 200 customers** and tabulates the results in a contingency table, as shown below:\n",
    "\n",
    "|  | Online Shopping | In-Store Shopping |\n",
    "| :------------|:--------------:| :-------------:|\n",
    "| Under 30 years old | 50 | 30 |\n",
    "| 30-50 years old | 40 | 45 |\n",
    "| Over 50 years old | 20 | 15 |\n",
    "\n",
    "**Calculate the Chi-Square statistic** to test if there is a significant relationship between the **age group** of customers and their **preferred mode of shopping**. <br>\n",
    "Determine if there is a significant relationship based on the **Chi-Square statistic and a significance level of 0.05**."
   ]
  },
  {
   "cell_type": "code",
   "execution_count": 10,
   "metadata": {},
   "outputs": [],
   "source": [
    "from scipy.stats import chi2_contingency"
   ]
  },
  {
   "cell_type": "code",
   "execution_count": 11,
   "metadata": {},
   "outputs": [],
   "source": [
    "observed = [[50, 30],\n",
    "            [40, 45],\n",
    "            [20, 15]]"
   ]
  },
  {
   "cell_type": "code",
   "execution_count": 12,
   "metadata": {},
   "outputs": [
    {
     "name": "stdout",
     "output_type": "stream",
     "text": [
      "Chi-Square Statistic: 4.048892284186402\n",
      "p-value: 0.13206696927038877\n",
      "There is no significant relationship between the age group of customers and their preferred mode of shopping.\n"
     ]
    }
   ],
   "source": [
    "chi_square_statistic, p_value, dof, expected = chi2_contingency(observed)\n",
    "\n",
    "print(\"Chi-Square Statistic:\", chi_square_statistic)\n",
    "print(\"p-value:\", p_value)\n",
    "\n",
    "alpha = 0.05\n",
    "if p_value < alpha:\n",
    "    print(\"There is a significant relationship between the age group of customers and their preferred mode of shopping.\")\n",
    "else:\n",
    "    print(\"There is no significant relationship between the age group of customers and their preferred mode of shopping.\")"
   ]
  }
 ],
 "metadata": {
  "kernelspec": {
   "display_name": "Python 3 (ipykernel)",
   "language": "python",
   "name": "python3"
  },
  "language_info": {
   "codemirror_mode": {
    "name": "ipython",
    "version": 3
   },
   "file_extension": ".py",
   "mimetype": "text/x-python",
   "name": "python",
   "nbconvert_exporter": "python",
   "pygments_lexer": "ipython3",
   "version": "3.11.5"
  }
 },
 "nbformat": 4,
 "nbformat_minor": 2
}
