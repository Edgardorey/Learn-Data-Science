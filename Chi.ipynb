{
 "cells": [
  {
   "cell_type": "markdown",
   "id": "de75a05c-93cc-4cdc-a0ce-2a5aae3969e7",
   "metadata": {},
   "source": [
    "# Chi"
   ]
  },
  {
   "cell_type": "code",
   "execution_count": 1,
   "id": "40b6c3ec-1c51-4600-98fd-6ab53114a98b",
   "metadata": {},
   "outputs": [],
   "source": [
    "import numpy as np\n",
    "import matplotlib.pyplot as plt"
   ]
  },
  {
   "cell_type": "markdown",
   "id": "46747cb5-dae3-4a12-afa6-178e83aecef9",
   "metadata": {},
   "source": [
    "### [scipy.stats.chi](https://docs.scipy.org/doc/scipy/reference/generated/scipy.stats.chi.html#scipy.stats.chi)"
   ]
  },
  {
   "cell_type": "code",
   "execution_count": 2,
   "id": "1ae48af8-79ad-45d9-a54d-ec2d61eda186",
   "metadata": {},
   "outputs": [],
   "source": [
    "from scipy.stats import chi"
   ]
  },
  {
   "cell_type": "code",
   "execution_count": 3,
   "id": "dd79fbd8-bbac-4c1d-911f-b605095d50af",
   "metadata": {},
   "outputs": [
    {
     "data": {
      "image/png": "[encoded data removed]",
      "text/plain": [
       "<Figure size 640x480 with 1 Axes>"
      ]
     },
     "metadata": {},
     "output_type": "display_data"
    }
   ],
   "source": [
    "fig, ax = plt.subplots(1, 1)"
   ]
  },
  {
   "cell_type": "code",
   "execution_count": 4,
   "id": "dff4af5f-5141-4d4d-b11f-34b760d2dbf9",
   "metadata": {},
   "outputs": [],
   "source": [
    "df = 78\n",
    "mean, var, skew, kurt = chi.stats(df, moments='mvsk')"
   ]
  },
  {
   "cell_type": "code",
   "execution_count": 5,
   "id": "43fefb3e-a5d8-4ff5-a9ba-26b61e60ca6b",
   "metadata": {},
   "outputs": [
    {
     "data": {
      "text/plain": [
       "[<matplotlib.lines.Line2D at 0x121c3a960>]"
      ]
     },
     "execution_count": 5,
     "metadata": {},
     "output_type": "execute_result"
    }
   ],
   "source": [
    "x = np.linspace(chi.ppf(0.01, df),\n",
    "                chi.ppf(0.99, df), 100)\n",
    "ax.plot(x, chi.pdf(x, df),\n",
    "       'r-', lw=5, alpha=0.6, label='chi pdf')"
   ]
  },
  {
   "cell_type": "code",
   "execution_count": 6,
   "id": "1f51c5cc-a059-49f8-a03c-4d661749695b",
   "metadata": {},
   "outputs": [
    {
     "data": {
      "text/plain": [
       "[<matplotlib.lines.Line2D at 0x121c2f860>]"
      ]
     },
     "execution_count": 6,
     "metadata": {},
     "output_type": "execute_result"
    }
   ],
   "source": [
    "rv = chi(df)\n",
    "ax.plot(x, rv.pdf(x), 'k-', lw=2, label='frozen pdf')"
   ]
  },
  {
   "cell_type": "code",
   "execution_count": 7,
   "id": "07f410e4-a2be-4ffc-92b8-f790e4f92cb8",
   "metadata": {},
   "outputs": [
    {
     "data": {
      "text/plain": [
       "True"
      ]
     },
     "execution_count": 7,
     "metadata": {},
     "output_type": "execute_result"
    }
   ],
   "source": [
    "vals = chi.ppf([0.001, 0.5, 0.999], df)\n",
    "np.allclose([0.001, 0.5, 0.999], chi.cdf(vals, df))"
   ]
  },
  {
   "cell_type": "code",
   "execution_count": 8,
   "id": "cee46d5d-94d9-4a4d-a291-561a881b851a",
   "metadata": {},
   "outputs": [],
   "source": [
    "r = chi.rvs(df, size=1000)"
   ]
  },
  {
   "cell_type": "code",
   "execution_count": 9,
   "id": "0b62ef69-c3aa-41d2-bf3c-3534ef281a67",
   "metadata": {},
   "outputs": [],
   "source": [
    "ax.hist(r, density=True, bins='auto', histtype='stepfilled', alpha=0.2)\n",
    "ax.set_xlim([x[0], x[-1]])\n",
    "ax.legend(loc='best', frameon=False)\n",
    "plt.show()"
   ]
  },
  {
   "cell_type": "markdown",
   "id": "571c9141-0a53-42b2-b15e-51b74223410c",
   "metadata": {},
   "source": [
    "## [scipy.stats.chi2](https://docs.scipy.org/doc/scipy/reference/generated/scipy.stats.chi2.html#scipy.stats.chi2)"
   ]
  },
  {
   "cell_type": "code",
   "execution_count": 10,
   "id": "153bae05-2e09-4c26-8431-164caa560b52",
   "metadata": {},
   "outputs": [],
   "source": [
    "from scipy.stats import chi2"
   ]
  },
  {
   "cell_type": "code",
   "execution_count": 11,
   "id": "af5af8cc-bf9c-4a1a-8bc8-0ae4867fb8d8",
   "metadata": {},
   "outputs": [
    {
     "data": {
      "image/png": "[encoded data removed]",
      "text/plain": [
       "<Figure size 640x480 with 1 Axes>"
      ]
     },
     "metadata": {},
     "output_type": "display_data"
    }
   ],
   "source": [
    "fig, ax = plt.subplots(1, 1)"
   ]
  },
  {
   "cell_type": "code",
   "execution_count": 12,
   "id": "414d97e6-00c6-47f7-8b9c-6a21e6285f41",
   "metadata": {},
   "outputs": [],
   "source": [
    "df = 55\n",
    "mean, var, skew, kurt = chi2.stats(df, moments='mvsk')"
   ]
  },
  {
   "cell_type": "code",
   "execution_count": 13,
   "id": "23df9c60-6547-4a30-86b4-44ec67c5d32d",
   "metadata": {},
   "outputs": [
    {
     "data": {
      "text/plain": [
       "[<matplotlib.lines.Line2D at 0x121d020c0>]"
      ]
     },
     "execution_count": 13,
     "metadata": {},
     "output_type": "execute_result"
    }
   ],
   "source": [
    "x = np.linspace(chi2.ppf(0.01, df),\n",
    "                chi2.ppf(0.99, df), 100)\n",
    "ax.plot(x, chi2.pdf(x, df),\n",
    "       'r-', lw=5, alpha=0.6, label='chi2 pdf')"
   ]
  },
  {
   "cell_type": "code",
   "execution_count": 14,
   "id": "a9146d8c-ea61-4d66-86a6-f45718b1e913",
   "metadata": {},
   "outputs": [
    {
     "data": {
      "text/plain": [
       "[<matplotlib.lines.Line2D at 0x121d01460>]"
      ]
     },
     "execution_count": 14,
     "metadata": {},
     "output_type": "execute_result"
    }
   ],
   "source": [
    "rv = chi2(df)\n",
    "ax.plot(x, rv.pdf(x), 'k-', lw=2, label='frozen pdf')"
   ]
  },
  {
   "cell_type": "code",
   "execution_count": 15,
   "id": "656c4298-5d20-4e6e-a502-3f7e1866fb53",
   "metadata": {},
   "outputs": [
    {
     "data": {
      "text/plain": [
       "True"
      ]
     },
     "execution_count": 15,
     "metadata": {},
     "output_type": "execute_result"
    }
   ],
   "source": [
    "vals = chi2.ppf([0.001, 0.5, 0.999], df)\n",
    "np.allclose([0.001, 0.5, 0.999], chi2.cdf(vals, df))"
   ]
  },
  {
   "cell_type": "code",
   "execution_count": 16,
   "id": "f30a8bba-c5b9-412d-ad27-92db9276db35",
   "metadata": {},
   "outputs": [],
   "source": [
    "r = chi2.rvs(df, size=1000)"
   ]
  },
  {
   "cell_type": "code",
   "execution_count": 17,
   "id": "40dc8919-c73a-42f1-89ed-29a4aef77266",
   "metadata": {},
   "outputs": [],
   "source": [
    "ax.hist(r, density=True, bins='auto', histtype='stepfilled', alpha=0.2)\n",
    "ax.set_xlim([x[0], x[-1]])\n",
    "ax.legend(loc='best', frameon=False)\n",
    "plt.show()"
   ]
  },
  {
   "cell_type": "markdown",
   "id": "ac72ba0d-c83b-4112-a364-c6f4510ec52b",
   "metadata": {},
   "source": [
    "## [scipy.stats.chisquare](https://docs.scipy.org/doc/scipy/reference/generated/scipy.stats.chisquare.html#scipy.stats.chisquare)"
   ]
  },
  {
   "cell_type": "markdown",
   "id": "34c19be1-38bd-4511-97d8-83093413f56d",
   "metadata": {},
   "source": [
    "In, bird foraging behavior was investigated in an old-growth forest of Oregon. In the forest, 44% of the canopy volume was Douglas fir, 24% was ponderosa pine, 29% was grand fir, and 3% was western larch. The authors observed the behavior of several species of birds, one of which was the red-breasted nuthatch. They made 189 observations of this species foraging, recording 43 (“23%”) of observations in Douglas fir, 52 (“28%”) in ponderosa pine, 54 (“29%”) in grand fir, and 40 (“21%”) in western larch.\n",
    "\n",
    "Using a chi-square test, we can test the null hypothesis that the proportions of foraging events are equal to the proportions of canopy volume. The authors of the paper considered a p-value less than 1% to be significant.\n",
    "\n",
    "Using the above proportions of canopy volume and observed events, we can infer expected frequencies."
   ]
  },
  {
   "cell_type": "code",
   "execution_count": 18,
   "id": "0a7574ef-b143-4cca-8013-ee1aecefd374",
   "metadata": {},
   "outputs": [],
   "source": [
    "from scipy.stats import chisquare"
   ]
  },
  {
   "cell_type": "code",
   "execution_count": 19,
   "id": "e07a26fc-7e0c-45b6-bdfe-48aaa6708a06",
   "metadata": {},
   "outputs": [],
   "source": [
    "f_exp = np.array([44, 24, 29, 3]) / 100 * 189\n",
    "f_obs = np.array([43, 52, 54, 40])"
   ]
  },
  {
   "cell_type": "code",
   "execution_count": 20,
   "id": "52b15363-c490-4f5e-83b8-a307b09e3171",
   "metadata": {},
   "outputs": [
    {
     "data": {
      "text/plain": [
       "Power_divergenceResult(statistic=228.23515947653874, pvalue=3.3295585338846486e-49)"
      ]
     },
     "execution_count": 20,
     "metadata": {},
     "output_type": "execute_result"
    }
   ],
   "source": [
    "chisquare(f_obs=f_obs, f_exp=f_exp)"
   ]
  },
  {
   "cell_type": "code",
   "execution_count": 21,
   "id": "0e6e4830-8fea-42e1-92cb-a276069817f0",
   "metadata": {},
   "outputs": [
    {
     "data": {
      "text/plain": [
       "Power_divergenceResult(statistic=2.0, pvalue=0.8491450360846096)"
      ]
     },
     "execution_count": 21,
     "metadata": {},
     "output_type": "execute_result"
    }
   ],
   "source": [
    "chisquare([16, 18, 16, 14, 12, 12])"
   ]
  },
  {
   "cell_type": "code",
   "execution_count": 22,
   "id": "c4259462-43ef-4583-90da-56fa3fa7e2cb",
   "metadata": {},
   "outputs": [
    {
     "data": {
      "text/plain": [
       "Power_divergenceResult(statistic=3.5, pvalue=0.6233876277495822)"
      ]
     },
     "execution_count": 22,
     "metadata": {},
     "output_type": "execute_result"
    }
   ],
   "source": [
    "chisquare([16, 18, 16, 14, 12, 12], f_exp=[16, 16, 16, 16, 16, 8])"
   ]
  },
  {
   "cell_type": "code",
   "execution_count": 23,
   "id": "c584b34e-00ab-4358-a338-02329858c512",
   "metadata": {},
   "outputs": [
    {
     "data": {
      "text/plain": [
       "(6, 2)"
      ]
     },
     "execution_count": 23,
     "metadata": {},
     "output_type": "execute_result"
    }
   ],
   "source": [
    "obs = np.array([[16, 18, 16, 14, 12, 12], [32, 24, 16, 28, 20, 24]]).T\n",
    "obs.shape"
   ]
  },
  {
   "cell_type": "code",
   "execution_count": 24,
   "id": "6f45235e-1815-460d-b6fa-58fa23ec9426",
   "metadata": {},
   "outputs": [
    {
     "data": {
      "text/plain": [
       "Power_divergenceResult(statistic=array([2.        , 6.66666667]), pvalue=array([0.84914504, 0.24663415]))"
      ]
     },
     "execution_count": 24,
     "metadata": {},
     "output_type": "execute_result"
    }
   ],
   "source": [
    "chisquare(obs)"
   ]
  },
  {
   "cell_type": "code",
   "execution_count": 25,
   "id": "2cf9b297-6fdc-421e-b55f-580d0085dadd",
   "metadata": {},
   "outputs": [
    {
     "data": {
      "text/plain": [
       "Power_divergenceResult(statistic=23.31034482758621, pvalue=0.015975692534127565)"
      ]
     },
     "execution_count": 25,
     "metadata": {},
     "output_type": "execute_result"
    }
   ],
   "source": [
    "chisquare(obs, axis=None)"
   ]
  },
  {
   "cell_type": "code",
   "execution_count": 26,
   "id": "2b5e4198-b510-4527-ba77-9235449f26c7",
   "metadata": {},
   "outputs": [
    {
     "data": {
      "text/plain": [
       "Power_divergenceResult(statistic=23.310344827586206, pvalue=0.01597569253412758)"
      ]
     },
     "execution_count": 26,
     "metadata": {},
     "output_type": "execute_result"
    }
   ],
   "source": [
    "chisquare(obs.ravel())"
   ]
  },
  {
   "cell_type": "code",
   "execution_count": 27,
   "id": "bfae1050-b275-41c4-9a62-ae8c597768ec",
   "metadata": {
    "scrolled": true
   },
   "outputs": [
    {
     "data": {
      "text/plain": [
       "Power_divergenceResult(statistic=2.0, pvalue=0.7357588823428847)"
      ]
     },
     "execution_count": 27,
     "metadata": {},
     "output_type": "execute_result"
    }
   ],
   "source": [
    "chisquare([16, 18, 16, 14, 12, 12], ddof=1)"
   ]
  },
  {
   "cell_type": "code",
   "execution_count": 28,
   "id": "4e9190a2-94cf-4461-999e-4d2a3a977027",
   "metadata": {
    "scrolled": true
   },
   "outputs": [
    {
     "data": {
      "text/plain": [
       "Power_divergenceResult(statistic=2.0, pvalue=array([0.84914504, 0.73575888, 0.5724067 ]))"
      ]
     },
     "execution_count": 28,
     "metadata": {},
     "output_type": "execute_result"
    }
   ],
   "source": [
    "chisquare([16, 18, 16, 14, 12, 12], ddof=[0,1,2])"
   ]
  },
  {
   "cell_type": "code",
   "execution_count": 29,
   "id": "5a4fa324-ac47-45a4-818f-2120867542ef",
   "metadata": {},
   "outputs": [
    {
     "data": {
      "text/plain": [
       "Power_divergenceResult(statistic=array([3.5 , 9.25]), pvalue=array([0.62338763, 0.09949846]))"
      ]
     },
     "execution_count": 29,
     "metadata": {},
     "output_type": "execute_result"
    }
   ],
   "source": [
    "chisquare([16, 18, 16, 14, 12, 12],\n",
    "          f_exp=[[16, 16, 16, 16, 16, 8], [8, 20, 20, 16, 12, 12]],\n",
    "          axis=1)"
   ]
  },
  {
   "cell_type": "markdown",
   "id": "dbe56033-d39f-4246-8011-60f616d7d3b0",
   "metadata": {},
   "source": [
    "## [scipy.stats.chi2_contingency](https://docs.scipy.org/doc/scipy/reference/generated/scipy.stats.chi2_contingency.html#scipy.stats.chi2_contingency)"
   ]
  },
  {
   "cell_type": "code",
   "execution_count": 30,
   "id": "a1763098-53de-481d-97e8-43c849e51379",
   "metadata": {},
   "outputs": [],
   "source": [
    "from scipy.stats import chi2_contingency"
   ]
  },
  {
   "cell_type": "code",
   "execution_count": 31,
   "id": "87bdc071-6725-4b13-be9b-38e25e6747f3",
   "metadata": {},
   "outputs": [
    {
     "data": {
      "text/plain": [
       "6.892569132546561"
      ]
     },
     "execution_count": 31,
     "metadata": {},
     "output_type": "execute_result"
    }
   ],
   "source": [
    "table = np.array([[176, 230], [21035, 21018]])\n",
    "res = chi2_contingency(table)\n",
    "res.statistic"
   ]
  },
  {
   "cell_type": "code",
   "execution_count": 32,
   "id": "1e6c7fcf-eb8f-413f-af3b-ed56de1ff916",
   "metadata": {},
   "outputs": [
    {
     "data": {
      "text/plain": [
       "0.008655478161175739"
      ]
     },
     "execution_count": 32,
     "metadata": {},
     "output_type": "execute_result"
    }
   ],
   "source": [
    "res.pvalue"
   ]
  },
  {
   "cell_type": "code",
   "execution_count": 33,
   "id": "9acc86ba-fb3a-4e91-8ad0-66474b664728",
   "metadata": {},
   "outputs": [
    {
     "data": {
      "text/plain": [
       "2.7777777777777777"
      ]
     },
     "execution_count": 33,
     "metadata": {},
     "output_type": "execute_result"
    }
   ],
   "source": [
    "obs = np.array([[10, 10, 20], [20, 20, 20]])\n",
    "res = chi2_contingency(obs)\n",
    "res.statistic"
   ]
  },
  {
   "cell_type": "code",
   "execution_count": 34,
   "id": "65dc49d9-9882-4ac7-acb7-6c8349cd71ca",
   "metadata": {},
   "outputs": [
    {
     "data": {
      "text/plain": [
       "0.24935220877729622"
      ]
     },
     "execution_count": 34,
     "metadata": {},
     "output_type": "execute_result"
    }
   ],
   "source": [
    "res.pvalue"
   ]
  },
  {
   "cell_type": "code",
   "execution_count": 35,
   "id": "aace9339-6c0d-42fb-b2e5-5f09f0dbf8b8",
   "metadata": {},
   "outputs": [
    {
     "data": {
      "text/plain": [
       "2"
      ]
     },
     "execution_count": 35,
     "metadata": {},
     "output_type": "execute_result"
    }
   ],
   "source": [
    "res.dof"
   ]
  },
  {
   "cell_type": "code",
   "execution_count": 36,
   "id": "1905a7ee-9cc1-4bbd-95fb-8930021542ac",
   "metadata": {},
   "outputs": [
    {
     "data": {
      "text/plain": [
       "array([[12., 12., 16.],\n",
       "       [18., 18., 24.]])"
      ]
     },
     "execution_count": 36,
     "metadata": {},
     "output_type": "execute_result"
    }
   ],
   "source": [
    "res.expected_freq"
   ]
  },
  {
   "cell_type": "code",
   "execution_count": 37,
   "id": "9fb1920d-9dab-4cc9-84d4-1ed1328442f7",
   "metadata": {},
   "outputs": [
    {
     "data": {
      "text/plain": [
       "2.768858761678132"
      ]
     },
     "execution_count": 37,
     "metadata": {},
     "output_type": "execute_result"
    }
   ],
   "source": [
    "res = chi2_contingency(obs, lambda_=\"log-likelihood\")\n",
    "res.statistic"
   ]
  },
  {
   "cell_type": "code",
   "execution_count": 38,
   "id": "aca6b2af-d638-4096-abee-1137dc83187a",
   "metadata": {},
   "outputs": [
    {
     "data": {
      "text/plain": [
       "0.25046668010954165"
      ]
     },
     "execution_count": 38,
     "metadata": {},
     "output_type": "execute_result"
    }
   ],
   "source": [
    "res.pvalue"
   ]
  },
  {
   "cell_type": "code",
   "execution_count": 39,
   "id": "b50f16fa-82ab-4b14-bf40-b93f8ccb426e",
   "metadata": {},
   "outputs": [
    {
     "data": {
      "text/plain": [
       "8.75845144267419"
      ]
     },
     "execution_count": 39,
     "metadata": {},
     "output_type": "execute_result"
    }
   ],
   "source": [
    "obs = np.array(\n",
    "    [[[[12, 17],\n",
    "       [11, 16]],\n",
    "      [[11, 12],\n",
    "       [15, 16]]],\n",
    "     [[[23, 15],\n",
    "       [30, 22]],\n",
    "      [[14, 17],\n",
    "       [15, 16]]]])\n",
    "res = chi2_contingency(obs)\n",
    "res.statistic"
   ]
  },
  {
   "cell_type": "code",
   "execution_count": 40,
   "id": "68f4c28d-1bca-4f1a-8b2a-20b81de365b7",
   "metadata": {},
   "outputs": [
    {
     "data": {
      "text/plain": [
       "0.6441772502929553"
      ]
     },
     "execution_count": 40,
     "metadata": {},
     "output_type": "execute_result"
    }
   ],
   "source": [
    "res.pvalue"
   ]
  }
 ],
 "metadata": {
  "kernelspec": {
   "display_name": "Python 3 (ipykernel)",
   "language": "python",
   "name": "python3"
  },
  "language_info": {
   "codemirror_mode": {
    "name": "ipython",
    "version": 3
   },
   "file_extension": ".py",
   "mimetype": "text/x-python",
   "name": "python",
   "nbconvert_exporter": "python",
   "pygments_lexer": "ipython3",
   "version": "3.12.3"
  }
 },
 "nbformat": 4,
 "nbformat_minor": 5
}
